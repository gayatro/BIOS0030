{
 "cells": [
  {
   "cell_type": "code",
   "execution_count": 2,
   "metadata": {},
   "outputs": [],
   "source": [
    "# importing the python libraries\n",
    "from IPython.display import display, Image, clear_output, HTML\n",
    "from jupyter_ui_poll import ui_events\n",
    "import ipywidgets as widgets\n",
    "import time\n",
    "import random\n",
    "import os\n",
    "import pandas as pd\n",
    "from bs4 import BeautifulSoup"
   ]
  },
  {
   "cell_type": "code",
   "execution_count": 23,
   "metadata": {},
   "outputs": [],
   "source": []
  },
  {
   "cell_type": "code",
   "execution_count": 13,
   "metadata": {},
   "outputs": [
    {
     "data": {
      "application/vnd.jupyter.widget-view+json": {
       "model_id": "cd8a3f37fefb463aa55a710a37ad4aad",
       "version_major": 2,
       "version_minor": 0
      },
      "text/plain": [
       "Text(value='', description='Answer:', placeholder='Type your answer here...')"
      ]
     },
     "metadata": {},
     "output_type": "display_data"
    },
    {
     "name": "stdout",
     "output_type": "stream",
     "text": [
      "-7 is correct! :)\n",
      "Time taken for this question: 3.98 seconds\n",
      "Test completed in 18.60 seconds.\n",
      "You got: 2 questions correct out of 5 (40.00%)\n",
      "Your final score is 8.98%.\n"
     ]
    },
    {
     "ename": "ValueError",
     "evalue": "invalid literal for int() with base 10: ''",
     "output_type": "error",
     "traceback": [
      "\u001b[0;31m---------------------------------------------------------------------------\u001b[0m",
      "\u001b[0;31mValueError\u001b[0m                                Traceback (most recent call last)",
      "\u001b[0;32m/var/folders/lx/mwpm9m9x37l73n7zlnvp_jsr0000gn/T/ipykernel_65232/1843110702.py\u001b[0m in \u001b[0;36mon_submit\u001b[0;34m(btn)\u001b[0m\n\u001b[1;32m     25\u001b[0m     \u001b[0manswer_input\u001b[0m\u001b[0;34m.\u001b[0m\u001b[0mvalue\u001b[0m \u001b[0;34m=\u001b[0m \u001b[0;34m''\u001b[0m  \u001b[0;31m# Clear the input field\u001b[0m\u001b[0;34m\u001b[0m\u001b[0;34m\u001b[0m\u001b[0m\n\u001b[1;32m     26\u001b[0m \u001b[0;34m\u001b[0m\u001b[0m\n\u001b[0;32m---> 27\u001b[0;31m     \u001b[0;32mif\u001b[0m \u001b[0mint\u001b[0m\u001b[0;34m(\u001b[0m\u001b[0mtheir_answer\u001b[0m\u001b[0;34m)\u001b[0m \u001b[0;34m==\u001b[0m \u001b[0manswers\u001b[0m\u001b[0;34m[\u001b[0m\u001b[0mcurrent_index\u001b[0m\u001b[0;34m]\u001b[0m\u001b[0;34m:\u001b[0m\u001b[0;34m\u001b[0m\u001b[0;34m\u001b[0m\u001b[0m\n\u001b[0m\u001b[1;32m     28\u001b[0m         \u001b[0mprint\u001b[0m\u001b[0;34m(\u001b[0m\u001b[0;34mf\"{answers[current_index]} is correct! :)\"\u001b[0m\u001b[0;34m)\u001b[0m\u001b[0;34m\u001b[0m\u001b[0;34m\u001b[0m\u001b[0m\n\u001b[1;32m     29\u001b[0m         \u001b[0mcorrect\u001b[0m \u001b[0;34m+=\u001b[0m \u001b[0;36m1\u001b[0m\u001b[0;34m\u001b[0m\u001b[0;34m\u001b[0m\u001b[0m\n",
      "\u001b[0;31mValueError\u001b[0m: invalid literal for int() with base 10: ''"
     ]
    }
   ],
   "source": [
    "def clear_screen():\n",
    "    \"\"\"\n",
    "    Clears the output screen based on the operating system.\n",
    "    \"\"\"\n",
    "    os.system('cls' if os.name == 'nt' else 'clear')\n",
    "\n",
    "def flash_part(part, duration=2):\n",
    "    \"\"\"\n",
    "    Displays each part of the question for a specified duration and then clears the screen.\n",
    "    \n",
    "    Parameters:\n",
    "    part: str, the part of the question to display\n",
    "    duration: int, the duration in seconds to display the part\n",
    "    \"\"\"\n",
    "    clear_screen()\n",
    "    print(part, end='', flush=True)\n",
    "    time.sleep(duration)\n",
    "\n",
    "# Function to handle the submission of an answer\n",
    "def on_submit(btn):\n",
    "    global correct, incorrect, times, current_index\n",
    "    their_answer = answer_input.value\n",
    "    time_to_answer = time.time() - start_time\n",
    "    times.append(time_to_answer)\n",
    "    answer_input.value = ''  # Clear the input field\n",
    "\n",
    "    if int(their_answer) == answers[current_index]:\n",
    "        print(f\"{answers[current_index]} is correct! :)\")\n",
    "        correct += 1\n",
    "    else:\n",
    "        print(f\"Incorrect :( The correct answer was: {answers[current_index]}\")\n",
    "        incorrect += 1\n",
    "\n",
    "    print(f\"Time taken for this question: {time_to_answer:.2f} seconds\")\n",
    "    \n",
    "    if current_index < len(questions) - 1:\n",
    "        current_index += 1\n",
    "        time.sleep(2)\n",
    "        clear_output(wait=True)\n",
    "        display_question(current_index)  # Display next question\n",
    "    else:\n",
    "        calculate_score()\n",
    "\n",
    "# Function to display the question using widgets\n",
    "def display_question(index):\n",
    "    \"\"\"\n",
    "    Displays each component of the question.\n",
    "    \n",
    "    Parameters:\n",
    "    index: int, the index of the current question\n",
    "    \"\"\"\n",
    "    global start_time\n",
    "    question = questions[index]\n",
    "    \n",
    "    for part in question.split():\n",
    "        style = \"color: aqua; font-size: 100px; display: flex; justify-content: center; align-items: center;\"\n",
    "        display(HTML(f\"<div style='{style}'><span>{part}</span></div>\"))\n",
    "        flash_part(part)\n",
    "        clear_output(wait=True)\n",
    "\n",
    "    start_time = time.time()\n",
    "    display(answer_input)\n",
    "    answer_input.on_submit(on_submit)\n",
    "\n",
    "# Function to calculate and display the final score\n",
    "def calculate_score():\n",
    "    \"\"\"\n",
    "    Calculates the final score based on the number of correct and incorrect answers and the time taken.\n",
    "    \"\"\"\n",
    "    total_time = (len(questions)*6)-sum(times) #multiply by 6 as each question has three parts that are flashed for two seconds each.\n",
    "    print(f\"Test completed in {total_time:.2f} seconds.\")\n",
    "    score_percentage = (correct / (correct + incorrect)) * 100\n",
    "    print(f\"You got: {correct} questions correct out of {len(questions)} ({score_percentage:.2f}%)\")\n",
    "\n",
    "    hypothesis_time = hypothesis_time_per_question * len(questions)\n",
    "    score_time = (correct - ((total_time - hypothesis_time) * 0.25) / ((correct + incorrect))*100)\n",
    "    print(f\"Your final score is {score_time:.2f}%.\")\n",
    "\n",
    "# Main test function\n",
    "def run_math():\n",
    "    \"\"\"\n",
    "    Runs the math test by displaying each question and collecting answers.\n",
    "    \"\"\"\n",
    "    display_question(0)  # Display first question\n",
    "\n",
    "# Global variables\n",
    "correct = 0\n",
    "incorrect = 0\n",
    "times = []\n",
    "current_index = 0\n",
    "hypothesis_time_per_question = 4\n",
    "start_time = 0\n",
    "\n",
    "# Widget for the answer input\n",
    "answer_input = widgets.Text(\n",
    "    placeholder='Type your answer here...',\n",
    "    description='Answer:',\n",
    "    disabled=False\n",
    ")\n",
    "\n",
    "# Questions and answers\n",
    "questions = ['2 + 2', '3 + 6', '9 + 7', '18 - 17', '20 - 27']\n",
    "answers = [4, 9, 16, 1, -7]\n",
    "\n",
    "# Run the test\n",
    "run_math()\n"
   ]
  },
  {
   "cell_type": "code",
   "execution_count": null,
   "metadata": {},
   "outputs": [],
   "source": [
    "# write a code for a start button the begin the test\n",
    "# format the questions in a pretty way\n",
    "# finish creating all the questions\n",
    "# link to a google form\n",
    "# add a way of allowing users to view their performance in comparison to the class dataset results\n",
    "# make interface more pretty\n",
    "\n"
   ]
  },
  {
   "cell_type": "code",
   "execution_count": 50,
   "metadata": {},
   "outputs": [
    {
     "name": "stdout",
     "output_type": "stream",
     "text": [
      "4 is correct! :)\n",
      "\u001b[H\u001b[2JTime taken for this question: 1.24 seconds\n",
      "Test completed in 5.52 seconds.\n",
      "You got: 1 questions correct out of 1 (100.00%)\n",
      "Your final score is 86.93%.\n"
     ]
    }
   ],
   "source": [
    "run_math(questions, answers)\n"
   ]
  }
 ],
 "metadata": {
  "kernelspec": {
   "display_name": "base",
   "language": "python",
   "name": "python3"
  },
  "language_info": {
   "codemirror_mode": {
    "name": "ipython",
    "version": 3
   },
   "file_extension": ".py",
   "mimetype": "text/x-python",
   "name": "python",
   "nbconvert_exporter": "python",
   "pygments_lexer": "ipython3",
   "version": "3.9.13"
  }
 },
 "nbformat": 4,
 "nbformat_minor": 2
}
