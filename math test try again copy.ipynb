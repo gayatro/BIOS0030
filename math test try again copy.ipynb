{
 "cells": [
  {
   "cell_type": "code",
   "execution_count": 23,
   "metadata": {},
   "outputs": [],
   "source": [
    "# importing the python libraries\n",
    "from IPython.display import display, Image, clear_output, HTML, Audio\n",
    "from jupyter_ui_poll import ui_events\n",
    "import ipywidgets as widgets\n",
    "import time\n",
    "import random\n",
    "import os\n",
    "import pandas as pd\n",
    "from bs4 import BeautifulSoup"
   ]
  },
  {
   "cell_type": "code",
   "execution_count": 27,
   "metadata": {},
   "outputs": [],
   "source": [
    "# Function to send data to Google Form\n",
    "def send_to_google_form(data_dict, form_url):\n",
    "    form_id = form_url.split('/d/')[1].split('/viewform')[0]\n",
    "    view_form_url = f'https://docs.google.com/forms/d/e/1FAIpQLScLFJvQWuQ4voGLWNRkINu0vr1j35uWCZ3-zriKamc09tYpfg/viewform'\n",
    "    post_form_url = f'https://docs.google.com/forms/d/e/1FAIpQLScLFJvQWuQ4voGLWNRkINu0vr1j35uWCZ3-zriKamc09tYpfg/formResponse'\n",
    "\n",
    "    page = requests.get(view_form_url)\n",
    "    content = BeautifulSoup(page.content, \"html.parser\").find('script', type='text/javascript')\n",
    "    content = content.text[27:-1]\n",
    "    result = json.loads(content)[1][1]\n",
    "    form_dict = {}\n",
    "\n",
    "    loaded_all = True\n",
    "    for item in result:\n",
    "        if item[1] not in data_dict:\n",
    "            print(f\"Form item {item[1]} not found. Data not uploaded.\")\n",
    "            loaded_all = False\n",
    "            return False\n",
    "        form_dict[f'entry.{item[4][0][0]}'] = data_dict[item[1]]\n",
    "\n",
    "    post_result = requests.post(post_form_url, data=form_dict)\n",
    "    return post_result.ok\n",
    "\n",
    "# Function for waiting for an event\n",
    "def wait_for_event(event_info, timeout=-1, interval=0.001, max_rate=20, allow_interrupt=True):    \n",
    "    start_wait = time.time()\n",
    "    n_proc = int(max_rate*interval)+1\n",
    "    \n",
    "    while True:\n",
    "        # Process UI events\n",
    "\n",
    "        # End loop if we have waited more than the timeout period\n",
    "        if (timeout != -1) and (time.time() > start_wait + timeout):\n",
    "            break\n",
    "                \n",
    "        # End loop if event has occurred\n",
    "        if allow_interrupt and event_info['description'] != \"\":\n",
    "            break\n",
    "                \n",
    "        time.sleep(interval)\n",
    "\n",
    "# Function to register button event\n",
    "def register_btn_event(btn, event_info):\n",
    "    event_info['type'] = \"button click\"\n",
    "    event_info['description'] = btn.description\n",
    "    event_info['time'] = time.time()\n",
    "\n",
    "# Callback function for submit button\n",
    "def submit_button_callback(btn, age_dropdown, gender_radiobuttons):\n",
    "    age = age_dropdown.value\n",
    "    gender = gender_radiobuttons.value\n",
    "    data = {'Age': age, 'Gender': gender}\n",
    "    # Call send_to_google_form here with correct data and URL\n",
    "    form_url = 'https://docs.google.com/forms/d/e/1FAIpQLScLFJvQWuQ4voGLWNRkINu0vr1j35uWCZ3-zriKamc09tYpfg/viewform'  # Replace with your Google Form URL\n",
    "    send_to_google_form(data, form_url)\n",
    "    clear_output(wait=False)\n",
    "\n",
    "# Function to display the submit button\n",
    "def submit_button(age_dropdown, gender_radiobuttons):\n",
    "    confirm_btn = widgets.Button(description=\"Confirm\")\n",
    "    display(confirm_btn)\n",
    "    event_info = {'type': \"\", 'description': \"\", 'time': -1}\n",
    "    confirm_btn.on_click(lambda btn: submit_button_callback(btn, age_dropdown, gender_radiobuttons))\n",
    "    wait_for_event()\n",
    "    clear_output(wait=False)\n",
    "\n",
    "# Main function to get personal information\n",
    "def personal_info():\n",
    "    print('Welcome to the Arithmetic test. This test will take approximately 3 minutes and the questions will progressively increase in difficulty.')\n",
    "    print('Each part of the question will flash on your screen for 1.5 seconds after which you will be prompted to respond.')\n",
    "    print('After completing the test, you will receive a score that accounts for the number of correct answers and the time taken to respond to each question.')\n",
    "    time.sleep(4)\n",
    "    clear_output(wait=False)\n",
    "\n",
    "    print('How old are you?')\n",
    "    age_dropdown = widgets.Dropdown(\n",
    "        options=[('Select Age', None)] + [(str(age), age) for age in range(18, 30)],\n",
    "        value=None\n",
    "    )\n",
    "    display(age_dropdown)\n",
    "\n",
    "    print('What is your gender?')\n",
    "    gender_radiobuttons = widgets.RadioButtons(\n",
    "        options=['Male', 'Female', 'Other'],\n",
    "        description='',\n",
    "        disabled=False\n",
    "    )\n",
    "    display(gender_radiobuttons)\n",
    "\n",
    "    submit_button(age_dropdown, gender_radiobuttons)\n",
    "\n",
    "#fix this!!!!!"
   ]
  },
  {
   "cell_type": "code",
   "execution_count": 30,
   "metadata": {},
   "outputs": [
    {
     "name": "stdout",
     "output_type": "stream",
     "text": [
      "How old are you?\n"
     ]
    },
    {
     "data": {
      "application/vnd.jupyter.widget-view+json": {
       "model_id": "15960ec9d2314e3085f64cef9028c51d",
       "version_major": 2,
       "version_minor": 0
      },
      "text/plain": [
       "Dropdown(options=(('Select Age', None), ('18', 18), ('19', 19), ('20', 20), ('21', 21), ('22', 22), ('23', 23)…"
      ]
     },
     "metadata": {},
     "output_type": "display_data"
    },
    {
     "name": "stdout",
     "output_type": "stream",
     "text": [
      "What is your gender?\n"
     ]
    },
    {
     "data": {
      "application/vnd.jupyter.widget-view+json": {
       "model_id": "c45ac648212c41e486953ae0bb910a23",
       "version_major": 2,
       "version_minor": 0
      },
      "text/plain": [
       "RadioButtons(options=('Male', 'Female', 'Other'), value='Male')"
      ]
     },
     "metadata": {},
     "output_type": "display_data"
    },
    {
     "data": {
      "application/vnd.jupyter.widget-view+json": {
       "model_id": "43e8a8233ac74f9092523047fd7fd815",
       "version_major": 2,
       "version_minor": 0
      },
      "text/plain": [
       "Button(description='Confirm', style=ButtonStyle())"
      ]
     },
     "metadata": {},
     "output_type": "display_data"
    },
    {
     "ename": "KeyboardInterrupt",
     "evalue": "",
     "output_type": "error",
     "traceback": [
      "\u001b[0;31m---------------------------------------------------------------------------\u001b[0m",
      "\u001b[0;31mKeyboardInterrupt\u001b[0m                         Traceback (most recent call last)",
      "\u001b[0;32m/var/folders/lx/mwpm9m9x37l73n7zlnvp_jsr0000gn/T/ipykernel_65232/3628659712.py\u001b[0m in \u001b[0;36m<module>\u001b[0;34m\u001b[0m\n\u001b[1;32m    119\u001b[0m \u001b[0;34m\u001b[0m\u001b[0m\n\u001b[1;32m    120\u001b[0m \u001b[0;31m# Run the test\u001b[0m\u001b[0;34m\u001b[0m\u001b[0;34m\u001b[0m\u001b[0m\n\u001b[0;32m--> 121\u001b[0;31m \u001b[0mrun_math\u001b[0m\u001b[0;34m(\u001b[0m\u001b[0;34m)\u001b[0m\u001b[0;34m\u001b[0m\u001b[0;34m\u001b[0m\u001b[0m\n\u001b[0m",
      "\u001b[0;32m/var/folders/lx/mwpm9m9x37l73n7zlnvp_jsr0000gn/T/ipykernel_65232/3628659712.py\u001b[0m in \u001b[0;36mrun_math\u001b[0;34m()\u001b[0m\n\u001b[1;32m     92\u001b[0m \u001b[0;31m# Main test function\u001b[0m\u001b[0;34m\u001b[0m\u001b[0;34m\u001b[0m\u001b[0m\n\u001b[1;32m     93\u001b[0m \u001b[0;32mdef\u001b[0m \u001b[0mrun_math\u001b[0m\u001b[0;34m(\u001b[0m\u001b[0;34m)\u001b[0m\u001b[0;34m:\u001b[0m\u001b[0;34m\u001b[0m\u001b[0;34m\u001b[0m\u001b[0m\n\u001b[0;32m---> 94\u001b[0;31m     \u001b[0mpersonal_info\u001b[0m\u001b[0;34m(\u001b[0m\u001b[0;34m)\u001b[0m\u001b[0;34m\u001b[0m\u001b[0;34m\u001b[0m\u001b[0m\n\u001b[0m\u001b[1;32m     95\u001b[0m     \u001b[0mwait_for_event\u001b[0m\u001b[0;34m(\u001b[0m\u001b[0me\u001b[0m\u001b[0;34m)\u001b[0m\u001b[0;34m\u001b[0m\u001b[0;34m\u001b[0m\u001b[0m\n\u001b[1;32m     96\u001b[0m     \"\"\"\n",
      "\u001b[0;32m/var/folders/lx/mwpm9m9x37l73n7zlnvp_jsr0000gn/T/ipykernel_65232/224393716.py\u001b[0m in \u001b[0;36mpersonal_info\u001b[0;34m()\u001b[0m\n\u001b[1;32m     88\u001b[0m     \u001b[0mdisplay\u001b[0m\u001b[0;34m(\u001b[0m\u001b[0mgender_radiobuttons\u001b[0m\u001b[0;34m)\u001b[0m\u001b[0;34m\u001b[0m\u001b[0;34m\u001b[0m\u001b[0m\n\u001b[1;32m     89\u001b[0m \u001b[0;34m\u001b[0m\u001b[0m\n\u001b[0;32m---> 90\u001b[0;31m     \u001b[0msubmit_button\u001b[0m\u001b[0;34m(\u001b[0m\u001b[0mage_dropdown\u001b[0m\u001b[0;34m,\u001b[0m \u001b[0mgender_radiobuttons\u001b[0m\u001b[0;34m)\u001b[0m\u001b[0;34m\u001b[0m\u001b[0;34m\u001b[0m\u001b[0m\n\u001b[0m\u001b[1;32m     91\u001b[0m \u001b[0;34m\u001b[0m\u001b[0m\n\u001b[1;32m     92\u001b[0m \u001b[0;31m#fix this!!!!!\u001b[0m\u001b[0;34m\u001b[0m\u001b[0;34m\u001b[0m\u001b[0m\n",
      "\u001b[0;32m/var/folders/lx/mwpm9m9x37l73n7zlnvp_jsr0000gn/T/ipykernel_65232/224393716.py\u001b[0m in \u001b[0;36msubmit_button\u001b[0;34m(age_dropdown, gender_radiobuttons)\u001b[0m\n\u001b[1;32m     62\u001b[0m     \u001b[0mevent_info\u001b[0m \u001b[0;34m=\u001b[0m \u001b[0;34m{\u001b[0m\u001b[0;34m'type'\u001b[0m\u001b[0;34m:\u001b[0m \u001b[0;34m\"\"\u001b[0m\u001b[0;34m,\u001b[0m \u001b[0;34m'description'\u001b[0m\u001b[0;34m:\u001b[0m \u001b[0;34m\"\"\u001b[0m\u001b[0;34m,\u001b[0m \u001b[0;34m'time'\u001b[0m\u001b[0;34m:\u001b[0m \u001b[0;34m-\u001b[0m\u001b[0;36m1\u001b[0m\u001b[0;34m}\u001b[0m\u001b[0;34m\u001b[0m\u001b[0;34m\u001b[0m\u001b[0m\n\u001b[1;32m     63\u001b[0m     \u001b[0mconfirm_btn\u001b[0m\u001b[0;34m.\u001b[0m\u001b[0mon_click\u001b[0m\u001b[0;34m(\u001b[0m\u001b[0;32mlambda\u001b[0m \u001b[0mbtn\u001b[0m\u001b[0;34m:\u001b[0m \u001b[0msubmit_button_callback\u001b[0m\u001b[0;34m(\u001b[0m\u001b[0mbtn\u001b[0m\u001b[0;34m,\u001b[0m \u001b[0mage_dropdown\u001b[0m\u001b[0;34m,\u001b[0m \u001b[0mgender_radiobuttons\u001b[0m\u001b[0;34m)\u001b[0m\u001b[0;34m)\u001b[0m\u001b[0;34m\u001b[0m\u001b[0;34m\u001b[0m\u001b[0m\n\u001b[0;32m---> 64\u001b[0;31m     \u001b[0mwait_for_event\u001b[0m\u001b[0;34m(\u001b[0m\u001b[0mevent_info\u001b[0m\u001b[0;34m)\u001b[0m\u001b[0;34m\u001b[0m\u001b[0;34m\u001b[0m\u001b[0m\n\u001b[0m\u001b[1;32m     65\u001b[0m     \u001b[0mclear_output\u001b[0m\u001b[0;34m(\u001b[0m\u001b[0mwait\u001b[0m\u001b[0;34m=\u001b[0m\u001b[0;32mFalse\u001b[0m\u001b[0;34m)\u001b[0m\u001b[0;34m\u001b[0m\u001b[0;34m\u001b[0m\u001b[0m\n\u001b[1;32m     66\u001b[0m \u001b[0;34m\u001b[0m\u001b[0m\n",
      "\u001b[0;32m/var/folders/lx/mwpm9m9x37l73n7zlnvp_jsr0000gn/T/ipykernel_65232/224393716.py\u001b[0m in \u001b[0;36mwait_for_event\u001b[0;34m(event_info, timeout, interval, max_rate, allow_interrupt)\u001b[0m\n\u001b[1;32m     38\u001b[0m             \u001b[0;32mbreak\u001b[0m\u001b[0;34m\u001b[0m\u001b[0;34m\u001b[0m\u001b[0m\n\u001b[1;32m     39\u001b[0m \u001b[0;34m\u001b[0m\u001b[0m\n\u001b[0;32m---> 40\u001b[0;31m         \u001b[0mtime\u001b[0m\u001b[0;34m.\u001b[0m\u001b[0msleep\u001b[0m\u001b[0;34m(\u001b[0m\u001b[0minterval\u001b[0m\u001b[0;34m)\u001b[0m\u001b[0;34m\u001b[0m\u001b[0;34m\u001b[0m\u001b[0m\n\u001b[0m\u001b[1;32m     41\u001b[0m \u001b[0;34m\u001b[0m\u001b[0m\n\u001b[1;32m     42\u001b[0m \u001b[0;31m# Function to register button event\u001b[0m\u001b[0;34m\u001b[0m\u001b[0;34m\u001b[0m\u001b[0m\n",
      "\u001b[0;31mKeyboardInterrupt\u001b[0m: "
     ]
    }
   ],
   "source": [
    "# Function to play a sound from a YouTube link\n",
    "def play_sound(mp3_path):\n",
    "    \"\"\"\n",
    "    Plays an MP3 sound.\n",
    "    \n",
    "    Parameters:\n",
    "    mp3_path: str, the path to the MP3 file\n",
    "    \"\"\"\n",
    "    display(Audio(mp3_path, autoplay=True))\n",
    "\n",
    "def clear_screen():\n",
    "    \"\"\"\n",
    "    Clears the output screen based on the operating system.\n",
    "    \"\"\"\n",
    "    os.system('cls' if os.name == 'nt' else 'clear')\n",
    "\n",
    "def flash_part(part, duration=2, mp3_path='/Users/gayatri/Desktop/introduction to coding for bioscience research/Courswork/beep.mp3'):\n",
    "    \"\"\"\n",
    "    Displays each part of the question for a specified duration and then clears the screen.\n",
    "    \n",
    "    Parameters:\n",
    "    part: str, the part of the question to display\n",
    "    duration: int, the duration in seconds to display the part\n",
    "    mp3_path: str, the path to the MP3 file\n",
    "    \"\"\"\n",
    "    clear_screen()\n",
    "    print(part, end='', flush=True)\n",
    "    play_sound(mp3_path)  # Play sound\n",
    "    time.sleep(duration)\n",
    "    clear_output(wait=True)\n",
    "\n",
    "# Function to handle the submission of an answer\n",
    "def on_submit(btn):\n",
    "    global correct, incorrect, times, current_index\n",
    "    their_answer = answer_input.value\n",
    "    time_to_answer = time.time() - start_time\n",
    "    times.append(time_to_answer)\n",
    "    answer_input.value = ''  # Clear the input field\n",
    "\n",
    "    if int(their_answer) == answers[current_index]:\n",
    "        print(f\"{answers[current_index]} is correct! :)\")\n",
    "        correct += 1\n",
    "    else:\n",
    "        print(f\"Incorrect :( The correct answer was: {answers[current_index]}\")\n",
    "        incorrect += 1\n",
    "\n",
    "    print(f\"Time taken for this question: {time_to_answer:.2f} seconds\")\n",
    "    \n",
    "    if current_index < len(questions) - 1:\n",
    "        current_index += 1\n",
    "        time.sleep(2)\n",
    "        clear_output(wait=True)\n",
    "        display_question(current_index)  # Display next question\n",
    "    else:\n",
    "        calculate_score()\n",
    "\n",
    "# Function to display the question using widgets\n",
    "def display_question(index):\n",
    "    \"\"\"\n",
    "    Displays each component of the question.\n",
    "    \n",
    "    Parameters:\n",
    "    index: int, the index of the current question\n",
    "    \"\"\"\n",
    "    global start_time\n",
    "    question = questions[index]\n",
    "    \n",
    "    for part in question.split():\n",
    "        style = \"color: aqua; font-size: 100px; display: flex; justify-content: center; align-items: center;\"\n",
    "        display(HTML(f\"<div style='{style}'><span>{part}</span></div>\"))\n",
    "        flash_part(part)\n",
    "        clear_output(wait=True)\n",
    "\n",
    "    start_time = time.time()\n",
    "    display(answer_input)\n",
    "    answer_input.on_submit(on_submit)\n",
    "\n",
    "# Function to calculate and display the final score\n",
    "def calculate_score():\n",
    "    \"\"\"\n",
    "    Calculates the final score based on the number of correct and incorrect answers and the time taken.\n",
    "    \"\"\"\n",
    "    total_time = (len(questions)*6)-sum(times) #multiply by 6 as each question has three parts that are flashed for two seconds each.\n",
    "    print(f\"Test completed in {total_time:.2f} seconds.\")\n",
    "    score_percentage = (correct / (correct + incorrect)) * 100\n",
    "    print(f\"You got: {correct} questions correct out of {len(questions)} ({score_percentage:.2f}%)\")\n",
    "\n",
    "    hypothesis_time = hypothesis_time_per_question * len(questions)\n",
    "    score_time = (correct - ((total_time - hypothesis_time) * 0.25) / ((correct + incorrect))*100)\n",
    "    print(f\"Your final score is {score_time:.2f}%.\")\n",
    "\n",
    "# Main test function\n",
    "def run_math():\n",
    "    personal_info()\n",
    "    wait_for_event(e)\n",
    "    \"\"\"\n",
    "    Runs the math test by displaying each question and collecting answers.\n",
    "    \"\"\"\n",
    "    display_question(0)  # Display first question\n",
    "\n",
    "# Global variables\n",
    "correct = 0\n",
    "incorrect = 0\n",
    "times = []\n",
    "current_index = 0\n",
    "hypothesis_time_per_question = 4\n",
    "start_time = 0\n",
    "\n",
    "# Widget for the answer input\n",
    "answer_input = widgets.Text(\n",
    "    placeholder='Type your answer here...',\n",
    "    description='Answer:',\n",
    "    disabled=False\n",
    ")\n",
    "\n",
    "# Questions and answers\n",
    "questions = ['2 + 2', '3 + 6', '9 + 7', '18 - 17', '20 - 27']\n",
    "answers = [4, 9, 16, 1, -7]\n",
    "\n",
    "# Run the test\n",
    "run_math()\n"
   ]
  },
  {
   "cell_type": "code",
   "execution_count": null,
   "metadata": {},
   "outputs": [],
   "source": [
    "# write a code for a start button the begin the test\n",
    "# format the questions in a pretty way\n",
    "# finish creating all the questions\n",
    "# link to a google form\n",
    "# add a way of allowing users to view their performance in comparison to the class dataset results\n",
    "# make interface more pretty\n",
    "\n"
   ]
  },
  {
   "cell_type": "code",
   "execution_count": 50,
   "metadata": {},
   "outputs": [
    {
     "name": "stdout",
     "output_type": "stream",
     "text": [
      "4 is correct! :)\n",
      "\u001b[H\u001b[2JTime taken for this question: 1.24 seconds\n",
      "Test completed in 5.52 seconds.\n",
      "You got: 1 questions correct out of 1 (100.00%)\n",
      "Your final score is 86.93%.\n"
     ]
    }
   ],
   "source": [
    "run_math(questions, answers)\n"
   ]
  }
 ],
 "metadata": {
  "kernelspec": {
   "display_name": "Python 3 (ipykernel)",
   "language": "python",
   "name": "python3"
  },
  "language_info": {
   "codemirror_mode": {
    "name": "ipython",
    "version": 3
   },
   "file_extension": ".py",
   "mimetype": "text/x-python",
   "name": "python",
   "nbconvert_exporter": "python",
   "pygments_lexer": "ipython3",
   "version": "3.9.13"
  }
 },
 "nbformat": 4,
 "nbformat_minor": 4
}
